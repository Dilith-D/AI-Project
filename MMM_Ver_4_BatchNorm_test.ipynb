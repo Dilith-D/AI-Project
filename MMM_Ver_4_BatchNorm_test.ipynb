{
  "cells": [
    {
      "cell_type": "code",
      "execution_count": null,
      "metadata": {
        "id": "z1zvTkAH4Tts"
      },
      "outputs": [],
      "source": [
        "import tensorflow as tf\n",
        "import tensorflow_datasets as tfds\n",
        "from tensorflow.keras import layers, models\n",
        "from tensorflow.keras.layers import Conv2D, MaxPooling2D, Flatten, Dense, BatchNormalization, Dropout\n",
        "from tensorflow.keras.models import Sequential\n",
        "from tensorflow.keras.regularizers import l2"
      ]
    },
    {
      "cell_type": "code",
      "execution_count": null,
      "metadata": {
        "id": "dc6QIAYx4X1S"
      },
      "outputs": [],
      "source": [
        "# Load the Stanford Online Products Dataset\n",
        "dataset_name = 'stanford_online_products'\n",
        "(train_dataset, test_dataset), dataset_info = tfds.load(\n",
        "    name=dataset_name,\n",
        "    split=['train', 'test'],\n",
        "    with_info=True,\n",
        "    as_supervised=False\n",
        ")"
      ]
    },
    {
      "cell_type": "code",
      "execution_count": null,
      "metadata": {
        "id": "wzW24GDv4Yuu"
      },
      "outputs": [],
      "source": [
        "# Preprocess and prepare the data\n",
        "def preprocess_data(data):\n",
        "    image = data['image']\n",
        "    label = data['class_id']\n",
        "    # Preprocess the image (e.g., resizing, normalizing)\n",
        "    image = tf.image.resize(image, (64, 64))  # Resize to a common size\n",
        "    image = tf.cast(image, tf.float32) / 255.0  # Normalize pixel values to [0, 1]\n",
        "    return image, label\n",
        "\n",
        "train_dataset = train_dataset.map(preprocess_data)\n",
        "test_dataset = test_dataset.map(preprocess_data)\n"
      ]
    },
    {
      "cell_type": "code",
      "execution_count": null,
      "metadata": {
        "colab": {
          "background_save": true
        },
        "id": "Rpljy9U50VSO"
      },
      "outputs": [],
      "source": [
        "model = tf.keras.Sequential([\n",
        "    tf.keras.layers.Conv2D(32, (3, 3), activation='relu', input_shape=(64, 64, 3)),\n",
        "    tf.keras.layers.MaxPooling2D((2, 2)),\n",
        "    tf.keras.layers.Conv2D(64, (3, 3), activation='relu'),\n",
        "    tf.keras.layers.Conv2D(64, (3, 3), activation='relu'),\n",
        "    tf.keras.layers.MaxPooling2D((2, 2)),\n",
        "    tf.keras.layers.Flatten(),\n",
        "    tf.keras.layers.Dense(128, activation='relu'),\n",
        "    tf.keras.layers.Dense(dataset_info.features['class_id'].num_classes, activation='softmax')\n",
        "])"
      ]
    },
    {
      "cell_type": "code",
      "execution_count": null,
      "metadata": {
        "id": "cd6n3cKn4Z6B"
      },
      "outputs": [],
      "source": [
        "# Data Augmentation\n",
        "data_augmentation = tf.keras.Sequential([\n",
        "    tf.keras.layers.experimental.preprocessing.RandomFlip(\"horizontal\"),\n",
        "    tf.keras.layers.experimental.preprocessing.RandomRotation(0.2),\n",
        "])"
      ]
    },
    {
      "cell_type": "code",
      "execution_count": null,
      "metadata": {
        "id": "Z3WjJpUJ4cBk"
      },
      "outputs": [],
      "source": [
        "# Compile the model\n",
        "model.compile(\n",
        "    optimizer='adam',\n",
        "    loss='sparse_categorical_crossentropy',\n",
        "    metrics=['accuracy']\n",
        ")"
      ]
    },
    {
      "cell_type": "code",
      "execution_count": null,
      "metadata": {
        "id": "mkVNLv5m4dQE"
      },
      "outputs": [],
      "source": [
        "# Set batch size and number of epochs\n",
        "batch_size = 32\n",
        "epochs = 50"
      ]
    },
    {
      "cell_type": "code",
      "execution_count": null,
      "metadata": {
        "id": "IR27wfy_4eM1"
      },
      "outputs": [],
      "source": [
        "# Shuffle and batch the data\n",
        "train_dataset = train_dataset.shuffle(1000).batch(batch_size)\n",
        "test_dataset = test_dataset.batch(batch_size)"
      ]
    },
    {
      "cell_type": "code",
      "execution_count": null,
      "metadata": {
        "colab": {
          "base_uri": "https://localhost:8080/"
        },
        "id": "lEC_UhT84fRu",
        "outputId": "d2708b1d-5338-4f07-8fad-77c2a2987d73"
      },
      "outputs": [
        {
          "name": "stdout",
          "output_type": "stream",
          "text": [
            "Epoch 1/50\n",
            "1861/1861 [==============================] - 68s 35ms/step - loss: 9.6516 - accuracy: 8.3962e-05\n",
            "Epoch 2/50\n",
            "1861/1861 [==============================] - 68s 36ms/step - loss: 8.8081 - accuracy: 0.0011\n",
            "Epoch 3/50\n",
            "1861/1861 [==============================] - 65s 34ms/step - loss: 8.0776 - accuracy: 0.0050\n",
            "Epoch 4/50\n",
            "1861/1861 [==============================] - 70s 37ms/step - loss: 7.2799 - accuracy: 0.0175\n",
            "Epoch 5/50\n",
            "1861/1861 [==============================] - 67s 35ms/step - loss: 6.3797 - accuracy: 0.0460\n",
            "Epoch 6/50\n",
            "1861/1861 [==============================] - 66s 35ms/step - loss: 5.4563 - accuracy: 0.1024\n",
            "Epoch 7/50\n",
            "1861/1861 [==============================] - 65s 35ms/step - loss: 4.6185 - accuracy: 0.1823\n",
            "Epoch 8/50\n",
            "1861/1861 [==============================] - 69s 37ms/step - loss: 3.8879 - accuracy: 0.2755\n",
            "Epoch 9/50\n",
            "1861/1861 [==============================] - 65s 34ms/step - loss: 3.2530 - accuracy: 0.3675\n",
            "Epoch 10/50\n",
            "1861/1861 [==============================] - 65s 34ms/step - loss: 2.7220 - accuracy: 0.4574\n",
            "Epoch 11/50\n",
            "1861/1861 [==============================] - 65s 34ms/step - loss: 2.2779 - accuracy: 0.5324\n",
            "Epoch 12/50\n",
            "1861/1861 [==============================] - 66s 35ms/step - loss: 1.9000 - accuracy: 0.5979\n",
            "Epoch 13/50\n",
            "1861/1861 [==============================] - 68s 36ms/step - loss: 1.5758 - accuracy: 0.6603\n",
            "Epoch 14/50\n",
            "1861/1861 [==============================] - 65s 34ms/step - loss: 1.3231 - accuracy: 0.7085\n",
            "Epoch 15/50\n",
            "1861/1861 [==============================] - 66s 35ms/step - loss: 1.1145 - accuracy: 0.7474\n",
            "Epoch 16/50\n",
            "1861/1861 [==============================] - 64s 34ms/step - loss: 0.9498 - accuracy: 0.7813\n",
            "Epoch 17/50\n",
            "1861/1861 [==============================] - 67s 35ms/step - loss: 0.8039 - accuracy: 0.8123\n",
            "Epoch 18/50\n",
            "1861/1861 [==============================] - 63s 33ms/step - loss: 0.6924 - accuracy: 0.8334\n",
            "Epoch 19/50\n",
            "1861/1861 [==============================] - 63s 34ms/step - loss: 0.6008 - accuracy: 0.8543\n",
            "Epoch 20/50\n",
            "1861/1861 [==============================] - 63s 33ms/step - loss: 0.5396 - accuracy: 0.8662\n",
            "Epoch 21/50\n",
            "1861/1861 [==============================] - 64s 34ms/step - loss: 0.4869 - accuracy: 0.8755\n",
            "Epoch 22/50\n",
            "1861/1861 [==============================] - 65s 35ms/step - loss: 0.4319 - accuracy: 0.8883\n",
            "Epoch 23/50\n",
            "1861/1861 [==============================] - 65s 35ms/step - loss: 0.3993 - accuracy: 0.8949\n",
            "Epoch 24/50\n",
            "1861/1861 [==============================] - 64s 34ms/step - loss: 0.3694 - accuracy: 0.9022\n",
            "Epoch 25/50\n",
            "1861/1861 [==============================] - 63s 33ms/step - loss: 0.3379 - accuracy: 0.9100\n",
            "Epoch 26/50\n",
            "1861/1861 [==============================] - 62s 33ms/step - loss: 0.3194 - accuracy: 0.9147\n",
            "Epoch 27/50\n",
            "1861/1861 [==============================] - 65s 34ms/step - loss: 0.2994 - accuracy: 0.9205\n",
            "Epoch 28/50\n",
            "1861/1861 [==============================] - 64s 34ms/step - loss: 0.2765 - accuracy: 0.9257\n",
            "Epoch 29/50\n",
            "1861/1861 [==============================] - 64s 34ms/step - loss: 0.2654 - accuracy: 0.9277\n",
            "Epoch 30/50\n",
            "1861/1861 [==============================] - 63s 34ms/step - loss: 0.2517 - accuracy: 0.9321\n",
            "Epoch 31/50\n",
            "1861/1861 [==============================] - 64s 34ms/step - loss: 0.2383 - accuracy: 0.9351\n",
            "Epoch 32/50\n",
            "1861/1861 [==============================] - 66s 35ms/step - loss: 0.2242 - accuracy: 0.9392\n",
            "Epoch 33/50\n",
            "1861/1861 [==============================] - 65s 34ms/step - loss: 0.2364 - accuracy: 0.9366\n",
            "Epoch 34/50\n",
            "1861/1861 [==============================] - 64s 34ms/step - loss: 0.2039 - accuracy: 0.9447\n",
            "Epoch 35/50\n",
            "1861/1861 [==============================] - 63s 34ms/step - loss: 0.2042 - accuracy: 0.9447\n",
            "Epoch 36/50\n",
            "1861/1861 [==============================] - 63s 34ms/step - loss: 0.2069 - accuracy: 0.9444\n",
            "Epoch 37/50\n",
            "1861/1861 [==============================] - 66s 35ms/step - loss: 0.1943 - accuracy: 0.9471\n",
            "Epoch 38/50\n",
            "1861/1861 [==============================] - 64s 34ms/step - loss: 0.1893 - accuracy: 0.9491\n",
            "Epoch 39/50\n",
            "1861/1861 [==============================] - 65s 34ms/step - loss: 0.1914 - accuracy: 0.9501\n",
            "Epoch 40/50\n",
            "1861/1861 [==============================] - 63s 34ms/step - loss: 0.1794 - accuracy: 0.9511\n",
            "Epoch 41/50\n",
            "1861/1861 [==============================] - 65s 35ms/step - loss: 0.1767 - accuracy: 0.9526\n",
            "Epoch 42/50\n",
            "1861/1861 [==============================] - 64s 34ms/step - loss: 0.1758 - accuracy: 0.9530\n",
            "Epoch 43/50\n",
            "1861/1861 [==============================] - 64s 34ms/step - loss: 0.1806 - accuracy: 0.9525\n",
            "Epoch 44/50\n",
            "1861/1861 [==============================] - 63s 34ms/step - loss: 0.1684 - accuracy: 0.9564\n",
            "Epoch 45/50\n",
            "1861/1861 [==============================] - 64s 34ms/step - loss: 0.1547 - accuracy: 0.9585\n",
            "Epoch 46/50\n",
            "1861/1861 [==============================] - 65s 35ms/step - loss: 0.1588 - accuracy: 0.9578\n",
            "Epoch 47/50\n",
            "1861/1861 [==============================] - 64s 34ms/step - loss: 0.1493 - accuracy: 0.9602\n",
            "Epoch 48/50\n",
            "1861/1861 [==============================] - 63s 33ms/step - loss: 0.1639 - accuracy: 0.9578\n",
            "Epoch 49/50\n",
            "1861/1861 [==============================] - 63s 33ms/step - loss: 0.1545 - accuracy: 0.9600\n",
            "Epoch 50/50\n",
            "1861/1861 [==============================] - 68s 36ms/step - loss: 0.1386 - accuracy: 0.9637\n"
          ]
        },
        {
          "data": {
            "text/plain": [
              "<keras.src.callbacks.History at 0x7b167f2ad660>"
            ]
          },
          "execution_count": 77,
          "metadata": {},
          "output_type": "execute_result"
        }
      ],
      "source": [
        "# Train the model\n",
        "model.fit(train_dataset, epochs=epochs)\n"
      ]
    },
    {
      "cell_type": "code",
      "execution_count": null,
      "metadata": {
        "colab": {
          "base_uri": "https://localhost:8080/",
          "height": 368
        },
        "id": "XCNNkjJy4ggG",
        "outputId": "1d34c8b4-61aa-4519-c025-bb3868a5aa49"
      },
      "outputs": [
        {
          "ename": "RuntimeError",
          "evalue": "ignored",
          "output_type": "error",
          "traceback": [
            "\u001b[0;31m---------------------------------------------------------------------------\u001b[0m",
            "\u001b[0;31mRuntimeError\u001b[0m                              Traceback (most recent call last)",
            "\u001b[0;32m<ipython-input-80-9942e49cfd07>\u001b[0m in \u001b[0;36m<cell line: 2>\u001b[0;34m()\u001b[0m\n\u001b[1;32m      1\u001b[0m \u001b[0;31m# Evaluate the model\u001b[0m\u001b[0;34m\u001b[0m\u001b[0;34m\u001b[0m\u001b[0m\n\u001b[0;32m----> 2\u001b[0;31m \u001b[0mtest_loss\u001b[0m\u001b[0;34m,\u001b[0m \u001b[0mtest_accuracy\u001b[0m \u001b[0;34m=\u001b[0m \u001b[0mmodel\u001b[0m\u001b[0;34m.\u001b[0m\u001b[0mevaluate\u001b[0m\u001b[0;34m(\u001b[0m\u001b[0mtest_dataset\u001b[0m\u001b[0;34m)\u001b[0m\u001b[0;34m\u001b[0m\u001b[0;34m\u001b[0m\u001b[0m\n\u001b[0m\u001b[1;32m      3\u001b[0m \u001b[0mprint\u001b[0m\u001b[0;34m(\u001b[0m\u001b[0;34mf'Test loss: {test_loss:.4f}'\u001b[0m\u001b[0;34m)\u001b[0m\u001b[0;34m\u001b[0m\u001b[0;34m\u001b[0m\u001b[0m\n\u001b[1;32m      4\u001b[0m \u001b[0mprint\u001b[0m\u001b[0;34m(\u001b[0m\u001b[0;34mf'Test accuracy: {test_accuracy:.2%}'\u001b[0m\u001b[0;34m)\u001b[0m\u001b[0;34m\u001b[0m\u001b[0;34m\u001b[0m\u001b[0m\n",
            "\u001b[0;32m/usr/local/lib/python3.10/dist-packages/keras/src/utils/traceback_utils.py\u001b[0m in \u001b[0;36merror_handler\u001b[0;34m(*args, **kwargs)\u001b[0m\n\u001b[1;32m     68\u001b[0m             \u001b[0;31m# To get the full stack trace, call:\u001b[0m\u001b[0;34m\u001b[0m\u001b[0;34m\u001b[0m\u001b[0m\n\u001b[1;32m     69\u001b[0m             \u001b[0;31m# `tf.debugging.disable_traceback_filtering()`\u001b[0m\u001b[0;34m\u001b[0m\u001b[0;34m\u001b[0m\u001b[0m\n\u001b[0;32m---> 70\u001b[0;31m             \u001b[0;32mraise\u001b[0m \u001b[0me\u001b[0m\u001b[0;34m.\u001b[0m\u001b[0mwith_traceback\u001b[0m\u001b[0;34m(\u001b[0m\u001b[0mfiltered_tb\u001b[0m\u001b[0;34m)\u001b[0m \u001b[0;32mfrom\u001b[0m \u001b[0;32mNone\u001b[0m\u001b[0;34m\u001b[0m\u001b[0;34m\u001b[0m\u001b[0m\n\u001b[0m\u001b[1;32m     71\u001b[0m         \u001b[0;32mfinally\u001b[0m\u001b[0;34m:\u001b[0m\u001b[0;34m\u001b[0m\u001b[0;34m\u001b[0m\u001b[0m\n\u001b[1;32m     72\u001b[0m             \u001b[0;32mdel\u001b[0m \u001b[0mfiltered_tb\u001b[0m\u001b[0;34m\u001b[0m\u001b[0;34m\u001b[0m\u001b[0m\n",
            "\u001b[0;32m/usr/local/lib/python3.10/dist-packages/keras/src/engine/training.py\u001b[0m in \u001b[0;36m_assert_compile_was_called\u001b[0;34m(self)\u001b[0m\n\u001b[1;32m   3952\u001b[0m         \u001b[0;31m# (i.e. whether the model is built and its inputs/outputs are set).\u001b[0m\u001b[0;34m\u001b[0m\u001b[0;34m\u001b[0m\u001b[0m\n\u001b[1;32m   3953\u001b[0m         \u001b[0;32mif\u001b[0m \u001b[0;32mnot\u001b[0m \u001b[0mself\u001b[0m\u001b[0;34m.\u001b[0m\u001b[0m_is_compiled\u001b[0m\u001b[0;34m:\u001b[0m\u001b[0;34m\u001b[0m\u001b[0;34m\u001b[0m\u001b[0m\n\u001b[0;32m-> 3954\u001b[0;31m             raise RuntimeError(\n\u001b[0m\u001b[1;32m   3955\u001b[0m                 \u001b[0;34m\"You must compile your model before \"\u001b[0m\u001b[0;34m\u001b[0m\u001b[0;34m\u001b[0m\u001b[0m\n\u001b[1;32m   3956\u001b[0m                 \u001b[0;34m\"training/testing. \"\u001b[0m\u001b[0;34m\u001b[0m\u001b[0;34m\u001b[0m\u001b[0m\n",
            "\u001b[0;31mRuntimeError\u001b[0m: You must compile your model before training/testing. Use `model.compile(optimizer, loss)`."
          ]
        }
      ],
      "source": [
        "# Evaluate the model\n",
        "test_loss, test_accuracy = model.evaluate(test_dataset)\n",
        "print(f'Test loss: {test_loss:.4f}')\n",
        "print(f'Test accuracy: {test_accuracy:.2%}')"
      ]
    },
    {
      "cell_type": "code",
      "execution_count": null,
      "metadata": {
        "id": "rTWUOY6g4heJ"
      },
      "outputs": [],
      "source": []
    }
  ],
  "metadata": {
    "accelerator": "GPU",
    "colab": {
      "provenance": []
    },
    "kernelspec": {
      "display_name": "Python 3",
      "name": "python3"
    },
    "language_info": {
      "name": "python"
    }
  },
  "nbformat": 4,
  "nbformat_minor": 0
}